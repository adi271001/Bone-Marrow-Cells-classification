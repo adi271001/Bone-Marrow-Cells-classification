{
 "cells": [
  {
   "cell_type": "markdown",
   "id": "77a79415",
   "metadata": {
    "papermill": {
     "duration": 0.006148,
     "end_time": "2023-12-28T06:59:53.652511",
     "exception": false,
     "start_time": "2023-12-28T06:59:53.646363",
     "status": "completed"
    },
    "tags": []
   },
   "source": [
    "# <span style=\"font-family:cursive;text-align:center\">⬇️ Import Libraries</span>"
   ]
  },
  {
   "cell_type": "code",
   "execution_count": 1,
   "id": "085815e4",
   "metadata": {
    "execution": {
     "iopub.execute_input": "2023-12-28T06:59:53.665227Z",
     "iopub.status.busy": "2023-12-28T06:59:53.664915Z",
     "iopub.status.idle": "2023-12-28T07:00:07.496223Z",
     "shell.execute_reply": "2023-12-28T07:00:07.495273Z"
    },
    "id": "Pti8RhxqMjTe",
    "papermill": {
     "duration": 13.840452,
     "end_time": "2023-12-28T07:00:07.498747",
     "exception": false,
     "start_time": "2023-12-28T06:59:53.658295",
     "status": "completed"
    },
    "tags": []
   },
   "outputs": [
    {
     "name": "stderr",
     "output_type": "stream",
     "text": [
      "/opt/conda/lib/python3.10/site-packages/scipy/__init__.py:146: UserWarning: A NumPy version >=1.16.5 and <1.23.0 is required for this version of SciPy (detected version 1.24.3\n",
      "  warnings.warn(f\"A NumPy version >={np_minversion} and <{np_maxversion}\"\n"
     ]
    }
   ],
   "source": [
    "import numpy as np\n",
    "import pandas as pd\n",
    "import os\n",
    "import librosa\n",
    "import librosa.display\n",
    "import matplotlib.pyplot as plt\n",
    "from sklearn.model_selection import train_test_split\n",
    "from sklearn.preprocessing import normalize\n",
    "import warnings\n",
    "warnings.filterwarnings('ignore')\n",
    "from sklearn.model_selection import train_test_split\n",
    "import tensorflow\n",
    "from tensorflow.keras.layers import LSTM, Dense"
   ]
  },
  {
   "cell_type": "markdown",
   "id": "220cc764",
   "metadata": {
    "papermill": {
     "duration": 0.005627,
     "end_time": "2023-12-28T07:00:07.510874",
     "exception": false,
     "start_time": "2023-12-28T07:00:07.505247",
     "status": "completed"
    },
    "tags": []
   },
   "source": [
    "<div class=\"alert alert-block alert-info\" style=\"font-size:14px; font-family:verdana; line-height: 1.7em;\">\n",
    "&nbsp;<b>The function create_spectrogram takes an input audio file path and generates a spectrogram image, saving it to the specified image file path. It utilizes the librosa library to load the audio, compute its mel spectrogram, and convert the power spectrogram to a decibel scale for better visualization.</b><br>\n",
    "<br>\n",
    "&nbsp;<b>The create_pngs_from_wavs function automates the process for multiple audio files within a given directory. It converts all .wav files in the specified input directory into spectrogram images, saving the resulting images to the designated output directory. This function makes use of the create_spectrogram function internally to generate the spectrogram images."
   ]
  },
  {
   "cell_type": "markdown",
   "id": "5732e305",
   "metadata": {
    "papermill": {
     "duration": 0.006172,
     "end_time": "2023-12-28T07:00:07.522712",
     "exception": false,
     "start_time": "2023-12-28T07:00:07.516540",
     "status": "completed"
    },
    "tags": []
   },
   "source": [
    "# <span style=\"font-family:cursive;text-align:center\">📊 Data Processing and Training set generation</span>"
   ]
  },
  {
   "cell_type": "code",
   "execution_count": 2,
   "id": "5794f91b",
   "metadata": {
    "execution": {
     "iopub.execute_input": "2023-12-28T07:00:07.539177Z",
     "iopub.status.busy": "2023-12-28T07:00:07.538458Z",
     "iopub.status.idle": "2023-12-28T07:00:07.547025Z",
     "shell.execute_reply": "2023-12-28T07:00:07.546174Z"
    },
    "id": "Vb4grOJHnfgu",
    "papermill": {
     "duration": 0.018468,
     "end_time": "2023-12-28T07:00:07.549002",
     "exception": false,
     "start_time": "2023-12-28T07:00:07.530534",
     "status": "completed"
    },
    "tags": []
   },
   "outputs": [],
   "source": [
    "def create_spectrogram(audio_file, image_file):\n",
    "    fig = plt.figure()\n",
    "    ax = fig.add_subplot(1, 1, 1)\n",
    "    fig.subplots_adjust(left=0, right=1, bottom=0, top=1)\n",
    "\n",
    "    y, sr = librosa.load(audio_file)\n",
    "    ms = librosa.feature.melspectrogram(y=y, sr=sr)\n",
    "    log_ms = librosa.power_to_db(ms, ref=np.max)\n",
    "    librosa.display.specshow(log_ms, sr=sr)\n",
    "\n",
    "    fig.savefig(image_file)\n",
    "    plt.close(fig)\n",
    "\n",
    "def create_pngs_from_wavs(input_path, output_path):\n",
    "    if not os.path.exists(output_path):\n",
    "        os.makedirs(output_path)\n",
    "\n",
    "    dir = os.listdir(input_path)\n",
    "\n",
    "    for i, file in enumerate(dir):\n",
    "        input_file = os.path.join(input_path, file)\n",
    "        output_file = os.path.join(output_path, file.replace('.wav', '.png'))\n",
    "        create_spectrogram(input_file, output_file)"
   ]
  },
  {
   "cell_type": "code",
   "execution_count": 3,
   "id": "af3efd44",
   "metadata": {
    "execution": {
     "iopub.execute_input": "2023-12-28T07:00:07.566228Z",
     "iopub.status.busy": "2023-12-28T07:00:07.565890Z",
     "iopub.status.idle": "2023-12-28T07:01:40.481699Z",
     "shell.execute_reply": "2023-12-28T07:01:40.480494Z"
    },
    "id": "99ri3l3-noK7",
    "papermill": {
     "duration": 92.927929,
     "end_time": "2023-12-28T07:01:40.484451",
     "exception": false,
     "start_time": "2023-12-28T07:00:07.556522",
     "status": "completed"
    },
    "tags": []
   },
   "outputs": [],
   "source": [
    "create_pngs_from_wavs('/kaggle/input/aud-data/aug-dataset1/belly_pain', '/kaggle/working/belly_pain')\n",
    "create_pngs_from_wavs('/kaggle/input/aud-data/aug-dataset1/burping', '/kaggle/working/burping')\n",
    "create_pngs_from_wavs('/kaggle/input/aud-data/aug-dataset1/discomfort', '/kaggle/working/discomfort')\n",
    "create_pngs_from_wavs('/kaggle/input/aud-data/aug-dataset1/hungry', '/kaggle/working/hungry')\n",
    "create_pngs_from_wavs('/kaggle/input/aud-data/aug-dataset1/tired', '/kaggle/working/tired')"
   ]
  },
  {
   "cell_type": "markdown",
   "id": "96f8b4a4",
   "metadata": {
    "papermill": {
     "duration": 0.005844,
     "end_time": "2023-12-28T07:01:40.497076",
     "exception": false,
     "start_time": "2023-12-28T07:01:40.491232",
     "status": "completed"
    },
    "tags": []
   },
   "source": [
    "<div class=\"alert alert-block alert-info\" style=\"font-size:14px; font-family:verdana; line-height: 1.7em;\">\n",
    "    &nbsp;<b>Loading the images from the path</b><br>\n",
    "</div>"
   ]
  },
  {
   "cell_type": "code",
   "execution_count": 4,
   "id": "17c12684",
   "metadata": {
    "execution": {
     "iopub.execute_input": "2023-12-28T07:01:40.510137Z",
     "iopub.status.busy": "2023-12-28T07:01:40.509567Z",
     "iopub.status.idle": "2023-12-28T07:01:40.515598Z",
     "shell.execute_reply": "2023-12-28T07:01:40.514789Z"
    },
    "id": "e6VCZhdinzm4",
    "papermill": {
     "duration": 0.014388,
     "end_time": "2023-12-28T07:01:40.517415",
     "exception": false,
     "start_time": "2023-12-28T07:01:40.503027",
     "status": "completed"
    },
    "tags": []
   },
   "outputs": [],
   "source": [
    "x = []\n",
    "y = []\n",
    "\n",
    "from keras.preprocessing import image\n",
    "\n",
    "def load_images_from_path(path, label):\n",
    "    images = []\n",
    "    labels = []\n",
    "\n",
    "    for file in os.listdir(path):\n",
    "        images.append(image.img_to_array(image.load_img(os.path.join(path, file), target_size=(224, 224, 3))))\n",
    "        labels.append((label))\n",
    "\n",
    "    return images, labels"
   ]
  },
  {
   "cell_type": "markdown",
   "id": "2063b642",
   "metadata": {
    "papermill": {
     "duration": 0.005803,
     "end_time": "2023-12-28T07:01:40.529636",
     "exception": false,
     "start_time": "2023-12-28T07:01:40.523833",
     "status": "completed"
    },
    "tags": []
   },
   "source": [
    "<div class=\"alert alert-block alert-info\" style=\"font-size:14px; font-family:verdana; line-height: 1.7em;\">\n",
    "     &nbsp;<b>The function takes in source patterns and their corresponding destination paths as input. If the destination directory doesn't exist, it creates the directory and proceeds with moving the files. It utilizes the glob module to identify the files based on the specified patterns and shutil for the file movement.\n",
    "</b><br>\n",
    "    <br>\n",
    "    &nbsp;<b>With this we create the training dataset and leave a file for each type for testing</b><br>\n",
    "</div>"
   ]
  },
  {
   "cell_type": "code",
   "execution_count": 5,
   "id": "1f302130",
   "metadata": {
    "execution": {
     "iopub.execute_input": "2023-12-28T07:01:40.542174Z",
     "iopub.status.busy": "2023-12-28T07:01:40.541886Z",
     "iopub.status.idle": "2023-12-28T07:01:40.570632Z",
     "shell.execute_reply": "2023-12-28T07:01:40.569729Z"
    },
    "id": "IqABUS4SubDU",
    "outputId": "03a5bcf4-4140-4d80-9ffd-447eee31920c",
    "papermill": {
     "duration": 0.037399,
     "end_time": "2023-12-28T07:01:40.572659",
     "exception": false,
     "start_time": "2023-12-28T07:01:40.535260",
     "status": "completed"
    },
    "tags": []
   },
   "outputs": [
    {
     "name": "stdout",
     "output_type": "stream",
     "text": [
      "Directory '/kaggle/working/belly_pain_train/' created successfully.\n",
      "Directory '/kaggle/working/burping_train/' created successfully.\n",
      "Directory '/kaggle/working/discomfort_train/' created successfully.\n",
      "Directory '/kaggle/working/hungry_train/' created successfully.\n",
      "Directory '/kaggle/working/tired_train/' created successfully.\n"
     ]
    }
   ],
   "source": [
    "import glob\n",
    "import shutil\n",
    "\n",
    "def move_files(source_pattern, destination_path):\n",
    "    if not os.path.exists(destination_path):\n",
    "        os.makedirs(destination_path)\n",
    "        print(f\"Directory '{destination_path}' created successfully.\")\n",
    "    else:\n",
    "        print(f\"Directory '{destination_path}' already exists.\")\n",
    "\n",
    "    files_to_move = glob.glob(source_pattern)\n",
    "    for file_path in files_to_move[:-1]:\n",
    "        shutil.move(file_path, destination_path)\n",
    "\n",
    "# Define your directories and source patterns\n",
    "directories = {\n",
    "    '/kaggle/working/belly_pain_train/': '/kaggle/working/belly_pain/*.png',\n",
    "    '/kaggle/working/burping_train/': '/kaggle/working/burping/*.png',\n",
    "    '/kaggle/working/discomfort_train/': '/kaggle/working/discomfort/*.png',\n",
    "    '/kaggle/working/hungry_train/': '/kaggle/working/hungry/*.png',\n",
    "    '/kaggle/working/tired_train/': '/kaggle/working/tired/*.png'\n",
    "}\n",
    "\n",
    "# Loop through the directories and move the files\n",
    "for directory, source_pattern in directories.items():\n",
    "    move_files(source_pattern, directory)"
   ]
  },
  {
   "cell_type": "code",
   "execution_count": 6,
   "id": "b649c538",
   "metadata": {
    "execution": {
     "iopub.execute_input": "2023-12-28T07:01:40.585573Z",
     "iopub.status.busy": "2023-12-28T07:01:40.585312Z",
     "iopub.status.idle": "2023-12-28T07:01:44.369122Z",
     "shell.execute_reply": "2023-12-28T07:01:44.368258Z"
    },
    "id": "j3lWFbHdn2ca",
    "papermill": {
     "duration": 3.793153,
     "end_time": "2023-12-28T07:01:44.371564",
     "exception": false,
     "start_time": "2023-12-28T07:01:40.578411",
     "status": "completed"
    },
    "tags": []
   },
   "outputs": [],
   "source": [
    "images, labels = load_images_from_path('/kaggle/working/belly_pain_train', 0)\n",
    "\n",
    "x += images\n",
    "y += labels\n",
    "\n",
    "images, labels = load_images_from_path('/kaggle/working/burping_train', 1)\n",
    "\n",
    "x += images\n",
    "y += labels\n",
    "\n",
    "images, labels = load_images_from_path('/kaggle/working/discomfort_train', 2)\n",
    "\n",
    "x += images\n",
    "y += labels\n",
    "\n",
    "images, labels = load_images_from_path('/kaggle/working/hungry_train', 3)\n",
    "\n",
    "x += images\n",
    "y += labels\n",
    "\n",
    "images, labels = load_images_from_path('/kaggle/working/tired_train', 4)\n",
    "\n",
    "x += images\n",
    "y += labels"
   ]
  },
  {
   "cell_type": "code",
   "execution_count": 7,
   "id": "16a41dea",
   "metadata": {
    "execution": {
     "iopub.execute_input": "2023-12-28T07:01:44.385039Z",
     "iopub.status.busy": "2023-12-28T07:01:44.384718Z",
     "iopub.status.idle": "2023-12-28T07:01:44.501297Z",
     "shell.execute_reply": "2023-12-28T07:01:44.500061Z"
    },
    "id": "wtkszY8-n3-I",
    "papermill": {
     "duration": 0.126342,
     "end_time": "2023-12-28T07:01:44.504080",
     "exception": false,
     "start_time": "2023-12-28T07:01:44.377738",
     "status": "completed"
    },
    "tags": []
   },
   "outputs": [],
   "source": [
    "from tensorflow.keras.utils import to_categorical\n",
    "from sklearn.model_selection import train_test_split\n",
    "\n",
    "x_train, x_test, y_train, y_test = train_test_split(x, y, test_size=0.2, random_state=0)\n",
    "\n",
    "x_train_norm = np.array(x_train) / 255\n",
    "x_test_norm = np.array(x_test) / 255\n",
    "\n",
    "y_train_encoded = to_categorical(y_train)\n",
    "y_test_encoded = to_categorical(y_test)"
   ]
  },
  {
   "cell_type": "markdown",
   "id": "34de9d92",
   "metadata": {
    "papermill": {
     "duration": 0.007807,
     "end_time": "2023-12-28T07:01:44.519670",
     "exception": false,
     "start_time": "2023-12-28T07:01:44.511863",
     "status": "completed"
    },
    "tags": []
   },
   "source": [
    "# <span style=\"font-family:cursive;text-align:center\">⚙️ Model Training</span>"
   ]
  },
  {
   "cell_type": "markdown",
   "id": "bccbbd0f",
   "metadata": {
    "papermill": {
     "duration": 0.005613,
     "end_time": "2023-12-28T07:01:44.532341",
     "exception": false,
     "start_time": "2023-12-28T07:01:44.526728",
     "status": "completed"
    },
    "tags": []
   },
   "source": [
    "<div style=\"border-radius:10px; border:#DEB887 solid; padding: 15px; background-color: #FFFAF0; font-size:100%; text-align:left\">\n",
    "<h3 align=\"left\"><font color='#DEB887'>💡 Model Architecture:</font></h3>\n",
    "    \n",
    "1. **Input Layer**: Accepts input images of shape (224, 224, 3), which corresponds to images with a height and width of 224 pixels and three color channels (RGB).\n",
    "2. **Resizing Layer: Resizes the input images to a smaller size of (64, 64). This reduction in image dimensions may help speed up training.\n",
    "3. **Normalization Layer**: Normalizes pixel values to have zero mean and unit variance, which aids in stabilizing and speeding up the training process.\n",
    "4. **Convolutional Layers**: Utilizes two convolutional layers:\n",
    "     - The first convolutional layer has 64 filters, a kernel size of 3x3, and ReLU activation.\n",
    "     - The second convolutional layer has 128 filters, a kernel size of 3x3, and ReLU activation.\n",
    "7. **MaxPooling Layer**: Performs max pooling with a pool size of 2x2, reducing the spatial dimensions of the feature maps.\n",
    "8. **Dropout Layer**: Introduces a dropout rate of 20% to prevent overfitting by randomly deactivating a fraction of neurons during training.\n",
    "9. **Flatten Layer**: Flattens the 2D feature maps into a 1D vector to prepare for the fully connected layers.\n",
    "10. **RandomFourierFeatures Layer**: Incorporates random Fourier features with 5 components, which can approximate non-linear mappings efficiently for the data.\n",
    "11. **Compilation**: Compiles the model using the AdamW optimizer with a learning rate of 0.01, categorical cross-entropy loss function (suitable for multi-class classification), and accuracy as the evaluation metric."
   ]
  },
  {
   "cell_type": "code",
   "execution_count": 8,
   "id": "ef25363a",
   "metadata": {
    "execution": {
     "iopub.execute_input": "2023-12-28T07:01:44.545818Z",
     "iopub.status.busy": "2023-12-28T07:01:44.545451Z",
     "iopub.status.idle": "2023-12-28T07:01:48.883319Z",
     "shell.execute_reply": "2023-12-28T07:01:48.882158Z"
    },
    "id": "oa1b9vgEn6kG",
    "outputId": "9e90d311-00b1-420e-ca68-5998e7dea087",
    "papermill": {
     "duration": 4.357281,
     "end_time": "2023-12-28T07:01:48.895453",
     "exception": false,
     "start_time": "2023-12-28T07:01:44.538172",
     "status": "completed"
    },
    "tags": []
   },
   "outputs": [
    {
     "name": "stdout",
     "output_type": "stream",
     "text": [
      "Model: \"sequential\"\n",
      "_________________________________________________________________\n",
      " Layer (type)                Output Shape              Param #   \n",
      "=================================================================\n",
      " resizing (Resizing)         (None, 64, 64, 3)         0         \n",
      "                                                                 \n",
      " normalization (Normalizati  (None, 64, 64, 3)         7         \n",
      " on)                                                             \n",
      "                                                                 \n",
      " conv2d (Conv2D)             (None, 62, 62, 64)        1792      \n",
      "                                                                 \n",
      " conv2d_1 (Conv2D)           (None, 60, 60, 128)       73856     \n",
      "                                                                 \n",
      " max_pooling2d (MaxPooling2  (None, 30, 30, 128)       0         \n",
      " D)                                                              \n",
      "                                                                 \n",
      " dropout (Dropout)           (None, 30, 30, 128)       0         \n",
      "                                                                 \n",
      " flatten (Flatten)           (None, 115200)            0         \n",
      "                                                                 \n",
      " random_fourier_features (R  (None, 5)                 576006    \n",
      " andomFourierFeatures)                                           \n",
      "                                                                 \n",
      "=================================================================\n",
      "Total params: 651661 (2.49 MB)\n",
      "Trainable params: 75648 (295.50 KB)\n",
      "Non-trainable params: 576013 (2.20 MB)\n",
      "_________________________________________________________________\n"
     ]
    }
   ],
   "source": [
    "from tensorflow.keras.models import Sequential\n",
    "from tensorflow.keras.layers import Conv2D, MaxPooling2D,Flatten, Dense, Dropout,Normalization,Resizing,InputLayer\n",
    "from tensorflow.keras.layers.experimental import RandomFourierFeatures\n",
    "from tensorflow.keras.optimizers import Adam,Adafactor,AdamW,Lion\n",
    "from tensorflow.keras.optimizers.experimental import Adadelta,Adagrad,Adamax,RMSprop,SGD,Nadam,Ftrl\n",
    "\n",
    "model = Sequential()\n",
    "model.add(InputLayer(input_shape=(224, 224, 3)))\n",
    "model.add(Resizing(64,64))\n",
    "model.add(Normalization())\n",
    "model.add(Conv2D(64, 3, strides=1, activation='relu'))\n",
    "model.add(Conv2D(128, 3, strides=1, activation='relu'))\n",
    "model.add(MaxPooling2D(2, 2))\n",
    "model.add(Dropout(0.2))\n",
    "model.add(Flatten())\n",
    "model.add(RandomFourierFeatures(5))\n",
    "model.compile(optimizer=AdamW(lr=0.01), loss='categorical_crossentropy', metrics=['accuracy'])\n",
    "model.summary()"
   ]
  },
  {
   "cell_type": "code",
   "execution_count": 9,
   "id": "09a6bd4a",
   "metadata": {
    "execution": {
     "iopub.execute_input": "2023-12-28T07:01:48.913483Z",
     "iopub.status.busy": "2023-12-28T07:01:48.913187Z",
     "iopub.status.idle": "2023-12-28T07:02:31.169428Z",
     "shell.execute_reply": "2023-12-28T07:02:31.168525Z"
    },
    "id": "AB8UY1DgseoL",
    "outputId": "c1694b58-9705-4b2e-9618-745560f9c867",
    "papermill": {
     "duration": 42.267416,
     "end_time": "2023-12-28T07:02:31.171672",
     "exception": false,
     "start_time": "2023-12-28T07:01:48.904256",
     "status": "completed"
    },
    "tags": []
   },
   "outputs": [
    {
     "name": "stdout",
     "output_type": "stream",
     "text": [
      "Epoch 1/50\n"
     ]
    },
    {
     "name": "stderr",
     "output_type": "stream",
     "text": [
      "2023-12-28 07:01:50.155408: E tensorflow/core/grappler/optimizers/meta_optimizer.cc:954] layout failed: INVALID_ARGUMENT: Size of values 0 does not match size of permutation 4 @ fanin shape insequential/dropout/dropout/SelectV2-2-TransposeNHWCToNCHW-LayoutOptimizer\n"
     ]
    },
    {
     "name": "stdout",
     "output_type": "stream",
     "text": [
      "12/12 [==============================] - 11s 86ms/step - loss: 1.3865 - accuracy: 0.0499 - val_loss: 0.5660 - val_accuracy: 0.0110 - lr: 0.0010\n",
      "Epoch 2/50\n",
      "12/12 [==============================] - 0s 29ms/step - loss: 1.3545 - accuracy: 0.0499 - val_loss: 0.5453 - val_accuracy: 0.0110 - lr: 0.0010\n",
      "Epoch 3/50\n",
      "12/12 [==============================] - 0s 29ms/step - loss: 1.3418 - accuracy: 0.0609 - val_loss: 0.5363 - val_accuracy: 0.0220 - lr: 0.0010\n",
      "Epoch 4/50\n",
      "12/12 [==============================] - 0s 30ms/step - loss: 1.3396 - accuracy: 0.0277 - val_loss: 0.5353 - val_accuracy: 0.0110 - lr: 0.0010\n",
      "Epoch 5/50\n",
      "12/12 [==============================] - 0s 29ms/step - loss: 1.3398 - accuracy: 0.0471 - val_loss: 0.5358 - val_accuracy: 0.0110 - lr: 0.0010\n",
      "Epoch 6/50\n",
      "12/12 [==============================] - 0s 30ms/step - loss: 1.3400 - accuracy: 0.0471 - val_loss: 0.5348 - val_accuracy: 0.0110 - lr: 0.0010\n",
      "Epoch 7/50\n",
      "12/12 [==============================] - 0s 29ms/step - loss: 1.3395 - accuracy: 0.0526 - val_loss: 0.5337 - val_accuracy: 0.0110 - lr: 0.0010\n",
      "Epoch 8/50\n",
      "12/12 [==============================] - 0s 29ms/step - loss: 1.3396 - accuracy: 0.0388 - val_loss: 0.5342 - val_accuracy: 0.0220 - lr: 0.0010\n",
      "Epoch 9/50\n",
      "12/12 [==============================] - 0s 29ms/step - loss: 1.3395 - accuracy: 0.0471 - val_loss: 0.5341 - val_accuracy: 0.0220 - lr: 0.0010\n",
      "Epoch 10/50\n",
      "12/12 [==============================] - 0s 29ms/step - loss: 1.3395 - accuracy: 0.0499 - val_loss: 0.5341 - val_accuracy: 0.0220 - lr: 0.0010\n",
      "Epoch 11/50\n",
      "12/12 [==============================] - 0s 29ms/step - loss: 1.3395 - accuracy: 0.0471 - val_loss: 0.5341 - val_accuracy: 0.0220 - lr: 0.0010\n",
      "Epoch 12/50\n",
      "12/12 [==============================] - 0s 30ms/step - loss: 1.3395 - accuracy: 0.0305 - val_loss: 0.5318 - val_accuracy: 0.0110 - lr: 0.0010\n",
      "Epoch 13/50\n",
      "12/12 [==============================] - 0s 29ms/step - loss: 1.3395 - accuracy: 0.0388 - val_loss: 0.5317 - val_accuracy: 0.0000e+00 - lr: 0.0010\n",
      "Epoch 14/50\n",
      "12/12 [==============================] - 0s 27ms/step - loss: 1.3395 - accuracy: 0.0416 - val_loss: 0.5320 - val_accuracy: 0.0110 - lr: 0.0010\n",
      "Epoch 15/50\n",
      "12/12 [==============================] - 0s 28ms/step - loss: 1.3395 - accuracy: 0.0332 - val_loss: 0.5321 - val_accuracy: 0.0110 - lr: 0.0010\n",
      "Epoch 16/50\n",
      "12/12 [==============================] - 0s 28ms/step - loss: 1.3395 - accuracy: 0.0305 - val_loss: 0.5314 - val_accuracy: 0.0110 - lr: 0.0010\n",
      "Epoch 17/50\n",
      "12/12 [==============================] - 0s 28ms/step - loss: 1.3395 - accuracy: 0.0332 - val_loss: 0.5314 - val_accuracy: 0.0000e+00 - lr: 0.0010\n",
      "Epoch 18/50\n",
      "12/12 [==============================] - 0s 27ms/step - loss: 1.3841 - accuracy: 0.0499 - val_loss: 0.5314 - val_accuracy: 0.0000e+00 - lr: 0.0010\n",
      "Epoch 19/50\n",
      "12/12 [==============================] - 0s 28ms/step - loss: 1.3395 - accuracy: 0.0526 - val_loss: 0.5314 - val_accuracy: 0.0110 - lr: 0.0010\n",
      "Epoch 20/50\n",
      "12/12 [==============================] - 0s 28ms/step - loss: 1.3395 - accuracy: 0.0305 - val_loss: 0.5314 - val_accuracy: 0.0110 - lr: 0.0010\n",
      "Epoch 21/50\n",
      "12/12 [==============================] - 0s 29ms/step - loss: 1.3841 - accuracy: 0.0416 - val_loss: 0.5314 - val_accuracy: 0.0110 - lr: 0.0010\n",
      "Epoch 22/50\n",
      "12/12 [==============================] - 0s 28ms/step - loss: 1.5627 - accuracy: 0.0388 - val_loss: 0.5314 - val_accuracy: 0.0110 - lr: 0.0010\n",
      "Epoch 23/50\n",
      "12/12 [==============================] - 0s 30ms/step - loss: 1.3395 - accuracy: 0.0499 - val_loss: 0.5314 - val_accuracy: 0.0110 - lr: 0.0010\n",
      "Epoch 24/50\n",
      "12/12 [==============================] - 0s 29ms/step - loss: 1.3841 - accuracy: 0.0416 - val_loss: 0.5314 - val_accuracy: 0.0110 - lr: 0.0010\n",
      "Epoch 25/50\n",
      "12/12 [==============================] - 0s 28ms/step - loss: 1.4288 - accuracy: 0.0471 - val_loss: 0.5314 - val_accuracy: 0.0110 - lr: 0.0010\n",
      "Epoch 26/50\n",
      "12/12 [==============================] - 0s 28ms/step - loss: 1.2948 - accuracy: 0.0360 - val_loss: 0.5314 - val_accuracy: 0.0110 - lr: 0.0010\n",
      "Epoch 27/50\n",
      "12/12 [==============================] - 0s 29ms/step - loss: 1.4288 - accuracy: 0.0526 - val_loss: 0.5314 - val_accuracy: 0.0110 - lr: 0.0010\n",
      "Epoch 28/50\n",
      "12/12 [==============================] - 0s 28ms/step - loss: 1.4288 - accuracy: 0.0526 - val_loss: 0.5314 - val_accuracy: 0.0110 - lr: 0.0010\n",
      "Epoch 29/50\n",
      "12/12 [==============================] - 0s 28ms/step - loss: 1.3395 - accuracy: 0.0471 - val_loss: 0.5314 - val_accuracy: 0.0110 - lr: 0.0010\n",
      "Epoch 30/50\n",
      "12/12 [==============================] - 0s 29ms/step - loss: 1.4288 - accuracy: 0.0388 - val_loss: 0.5314 - val_accuracy: 0.0110 - lr: 0.0010\n",
      "Epoch 31/50\n",
      "12/12 [==============================] - 0s 28ms/step - loss: 1.3395 - accuracy: 0.0471 - val_loss: 0.5314 - val_accuracy: 0.0110 - lr: 0.0010\n",
      "Epoch 32/50\n",
      "12/12 [==============================] - 0s 29ms/step - loss: 1.3395 - accuracy: 0.0499 - val_loss: 0.5314 - val_accuracy: 0.0110 - lr: 0.0010\n",
      "Epoch 33/50\n",
      "12/12 [==============================] - 0s 29ms/step - loss: 1.3395 - accuracy: 0.0416 - val_loss: 0.5314 - val_accuracy: 0.0110 - lr: 0.0010\n",
      "Epoch 34/50\n",
      "12/12 [==============================] - 0s 29ms/step - loss: 1.3395 - accuracy: 0.0471 - val_loss: 0.5314 - val_accuracy: 0.0110 - lr: 0.0010\n",
      "Epoch 35/50\n",
      "12/12 [==============================] - 0s 29ms/step - loss: 1.3841 - accuracy: 0.0388 - val_loss: 0.5314 - val_accuracy: 0.0110 - lr: 0.0010\n",
      "Epoch 36/50\n",
      "12/12 [==============================] - 0s 29ms/step - loss: 1.3395 - accuracy: 0.0443 - val_loss: 0.5314 - val_accuracy: 0.0110 - lr: 0.0010\n",
      "Epoch 37/50\n",
      "12/12 [==============================] - 0s 32ms/step - loss: 1.3841 - accuracy: 0.0443 - val_loss: 0.5314 - val_accuracy: 0.0110 - lr: 0.0010\n",
      "Epoch 38/50\n",
      "12/12 [==============================] - 0s 31ms/step - loss: 1.3395 - accuracy: 0.0388 - val_loss: 0.5314 - val_accuracy: 0.0110 - lr: 0.0010\n",
      "Epoch 39/50\n",
      "12/12 [==============================] - 0s 28ms/step - loss: 1.4288 - accuracy: 0.0388 - val_loss: 0.5314 - val_accuracy: 0.0110 - lr: 0.0010\n",
      "Epoch 40/50\n",
      "12/12 [==============================] - 0s 28ms/step - loss: 1.3841 - accuracy: 0.0443 - val_loss: 0.5314 - val_accuracy: 0.0110 - lr: 0.0010\n",
      "Epoch 41/50\n",
      "12/12 [==============================] - 0s 29ms/step - loss: 1.3841 - accuracy: 0.0582 - val_loss: 0.5314 - val_accuracy: 0.0110 - lr: 0.0010\n",
      "Epoch 42/50\n",
      "12/12 [==============================] - 0s 29ms/step - loss: 1.4288 - accuracy: 0.0637 - val_loss: 0.5314 - val_accuracy: 0.0110 - lr: 0.0010\n",
      "Epoch 43/50\n",
      "12/12 [==============================] - 0s 28ms/step - loss: 1.3395 - accuracy: 0.0277 - val_loss: 0.5314 - val_accuracy: 0.0110 - lr: 0.0010\n",
      "Epoch 44/50\n",
      "12/12 [==============================] - 0s 29ms/step - loss: 1.2948 - accuracy: 0.0388 - val_loss: 0.5314 - val_accuracy: 0.0110 - lr: 0.0010\n",
      "Epoch 45/50\n",
      "12/12 [==============================] - 0s 29ms/step - loss: 1.3841 - accuracy: 0.0554 - val_loss: 0.5314 - val_accuracy: 0.0110 - lr: 0.0010\n",
      "Epoch 46/50\n",
      "12/12 [==============================] - 0s 28ms/step - loss: 1.3841 - accuracy: 0.0416 - val_loss: 0.5314 - val_accuracy: 0.0110 - lr: 0.0010\n",
      "Epoch 47/50\n",
      "12/12 [==============================] - 0s 28ms/step - loss: 1.3841 - accuracy: 0.0554 - val_loss: 0.5314 - val_accuracy: 0.0110 - lr: 0.0010\n",
      "Epoch 48/50\n",
      "12/12 [==============================] - 0s 29ms/step - loss: 1.3395 - accuracy: 0.0471 - val_loss: 0.5314 - val_accuracy: 0.0110 - lr: 0.0010\n",
      "Epoch 49/50\n",
      "12/12 [==============================] - 0s 28ms/step - loss: 1.5180 - accuracy: 0.0416 - val_loss: 0.5314 - val_accuracy: 0.0110 - lr: 0.0010\n",
      "Epoch 50/50\n",
      "12/12 [==============================] - 0s 28ms/step - loss: 1.3841 - accuracy: 0.0360 - val_loss: 0.5314 - val_accuracy: 0.0110 - lr: 0.0010\n"
     ]
    }
   ],
   "source": [
    "from tensorflow.keras.callbacks import ReduceLROnPlateau\n",
    "reduce_lr = ReduceLROnPlateau(monitor='val_accuracy',\n",
    "                              factor=0.5,\n",
    "                              patience=2,\n",
    "                              min_lr=0.006,\n",
    "                              verbose=1)\n",
    "\n",
    "hist = model.fit(x_train_norm, y_train_encoded, validation_data=(x_test_norm, y_test_encoded), epochs=50,callbacks=[reduce_lr])"
   ]
  },
  {
   "cell_type": "code",
   "execution_count": 10,
   "id": "40e3bee5",
   "metadata": {
    "execution": {
     "iopub.execute_input": "2023-12-28T07:02:31.239709Z",
     "iopub.status.busy": "2023-12-28T07:02:31.239377Z",
     "iopub.status.idle": "2023-12-28T07:02:32.509636Z",
     "shell.execute_reply": "2023-12-28T07:02:32.508712Z"
    },
    "id": "6lgzf5RIn-m-",
    "outputId": "6ebd621c-9c91-4a5d-ec3b-3989e7badaf9",
    "papermill": {
     "duration": 1.306289,
     "end_time": "2023-12-28T07:02:32.511731",
     "exception": false,
     "start_time": "2023-12-28T07:02:31.205442",
     "status": "completed"
    },
    "tags": []
   },
   "outputs": [
    {
     "data": {
      "image/png": "[encoded data removed]",
      "text/plain": [
       "<Figure size 640x480 with 1 Axes>"
      ]
     },
     "metadata": {},
     "output_type": "display_data"
    }
   ],
   "source": [
    "acc = hist.history['accuracy']\n",
    "val_acc = hist.history['val_accuracy']\n",
    "epochs = range(1, len(acc) + 1)\n",
    "\n",
    "plt.plot(epochs, acc, '-', label='Training Accuracy')\n",
    "plt.plot(epochs, val_acc, ':', label='Validation Accuracy')\n",
    "plt.title('Training and Validation Accuracy')\n",
    "plt.xlabel('Epoch')\n",
    "plt.ylabel('Accuracy')\n",
    "plt.legend(loc='lower right')\n",
    "plt.plot()\n",
    "plt.show()"
   ]
  },
  {
   "cell_type": "markdown",
   "id": "1e40622b",
   "metadata": {
    "papermill": {
     "duration": 0.033225,
     "end_time": "2023-12-28T07:02:32.578710",
     "exception": false,
     "start_time": "2023-12-28T07:02:32.545485",
     "status": "completed"
    },
    "tags": []
   },
   "source": [
    "# <span style=\"font-family:cursive;text-align:center\">🧪 Testing</span>"
   ]
  },
  {
   "cell_type": "markdown",
   "id": "ef7d4b3f",
   "metadata": {
    "papermill": {
     "duration": 0.033084,
     "end_time": "2023-12-28T07:02:32.645002",
     "exception": false,
     "start_time": "2023-12-28T07:02:32.611918",
     "status": "completed"
    },
    "tags": []
   },
   "source": [
    "<div class=\"alert alert-block alert-info\" style=\"font-size:14px; font-family:verdana; line-height: 1.7em;\">\n",
    "    &nbsp;<b>For predicting on single tets files this code will be used. For each image file path obtained, the code performs the following operations:\n",
    "\n",
    "- Loads the image using image.load_img() from the Keras preprocessing module, resizing it to the required dimensions of 224x224 pixels.\n",
    "- Converts the image to a format compatible with the model for prediction (image.img_to_array() and np.expand_dims()).\n",
    "- Utilizes the model for prediction on the image\n",
    "- Retrieves class labels corresponding to the categories ('belly pain', 'burping', 'discomfort', 'hungry', 'tired').\n",
    "- Prints the original file path and its predicted category, appending this information to the results list.</b>\n",
    "</div>"
   ]
  },
  {
   "cell_type": "code",
   "execution_count": 11,
   "id": "0496dd3a",
   "metadata": {
    "execution": {
     "iopub.execute_input": "2023-12-28T07:02:32.712660Z",
     "iopub.status.busy": "2023-12-28T07:02:32.712356Z",
     "iopub.status.idle": "2023-12-28T07:02:33.222550Z",
     "shell.execute_reply": "2023-12-28T07:02:33.221475Z"
    },
    "papermill": {
     "duration": 0.546483,
     "end_time": "2023-12-28T07:02:33.224666",
     "exception": false,
     "start_time": "2023-12-28T07:02:32.678183",
     "status": "completed"
    },
    "tags": []
   },
   "outputs": [
    {
     "name": "stdout",
     "output_type": "stream",
     "text": [
      "1/1 [==============================] - 0s 191ms/step\n",
      "1/1 [==============================] - 0s 21ms/step\n",
      "1/1 [==============================] - 0s 19ms/step\n",
      "1/1 [==============================] - 0s 19ms/step\n",
      "1/1 [==============================] - 0s 20ms/step\n",
      "\n",
      "\n",
      "Original:belly_pain Predicted: tired\n",
      "\n",
      "\n",
      "Original:burping Predicted: burping\n",
      "\n",
      "\n",
      "Original:discomfort Predicted: belly pain\n",
      "\n",
      "\n",
      "Original:hungry Predicted: belly pain\n",
      "\n",
      "\n",
      "Original:tired Predicted: discomfort\n",
      "\n",
      "\n"
     ]
    }
   ],
   "source": [
    "import glob\n",
    "import os\n",
    "\n",
    "def get_png_files(directory):\n",
    "    folders = ['belly_pain', 'burping', 'discomfort', 'hungry', 'tired'] \n",
    "    png_files = []\n",
    "\n",
    "    for folder_name in folders:\n",
    "        folder_path = os.path.join(directory, folder_name)\n",
    "        if os.path.exists(folder_path):\n",
    "            png_files.extend(glob.glob(os.path.join(folder_path, '*.png')))\n",
    "        else:\n",
    "            print(f\"Folder '{folder_name}' does not exist in '{directory}'.\")\n",
    "\n",
    "    return png_files\n",
    "\n",
    "directory_path = '/kaggle/working/' \n",
    "png_files_list = get_png_files(directory_path)\n",
    "\n",
    "results = []\n",
    "for file_path in png_files_list:\n",
    "    x = image.load_img(file_path, target_size=(224, 224))\n",
    "\n",
    "    x = image.img_to_array(x)\n",
    "    x = np.expand_dims(x, axis=0)\n",
    "\n",
    "    y = model.predict(x)\n",
    "\n",
    "    class_labels = ['belly pain','burping','discomfort','hungry','tired']\n",
    "\n",
    "    # for i, label in enumerate(class_labels):\n",
    "    #     print(f'{label}: {y[0][i]}')\n",
    "\n",
    "    results.append(f\"Original:{file_path.split('/')[3]} Predicted: {class_labels[np.argmax(y)]}\")\n",
    "    \n",
    "print('\\n')\n",
    "\n",
    "for i in results:\n",
    "    print(i)\n",
    "    print('\\n')"
   ]
  },
  {
   "cell_type": "code",
   "execution_count": null,
   "id": "59969202",
   "metadata": {
    "papermill": {
     "duration": 0.034139,
     "end_time": "2023-12-28T07:02:33.293467",
     "exception": false,
     "start_time": "2023-12-28T07:02:33.259328",
     "status": "completed"
    },
    "tags": []
   },
   "outputs": [],
   "source": []
  }
 ],
 "metadata": {
  "accelerator": "GPU",
  "colab": {
   "collapsed_sections": [
    "99FRzLHUzvjR",
    "Yd64T_vhz0qK",
    "ZbKrHG-CqOsv"
   ],
   "gpuType": "T4",
   "provenance": []
  },
  "kaggle": {
   "accelerator": "nvidiaTeslaT4",
   "dataSources": [
    {
     "datasetId": 4195468,
     "sourceId": 7243196,
     "sourceType": "datasetVersion"
    },
    {
     "datasetId": 4227039,
     "sourceId": 7288843,
     "sourceType": "datasetVersion"
    }
   ],
   "dockerImageVersionId": 30626,
   "isGpuEnabled": true,
   "isInternetEnabled": true,
   "language": "python",
   "sourceType": "notebook"
  },
  "kernelspec": {
   "display_name": "Python 3",
   "language": "python",
   "name": "python3"
  },
  "language_info": {
   "codemirror_mode": {
    "name": "ipython",
    "version": 3
   },
   "file_extension": ".py",
   "mimetype": "text/x-python",
   "name": "python",
   "nbconvert_exporter": "python",
   "pygments_lexer": "ipython3",
   "version": "3.10.12"
  },
  "papermill": {
   "default_parameters": {},
   "duration": 166.646838,
   "end_time": "2023-12-28T07:02:36.865937",
   "environment_variables": {},
   "exception": null,
   "input_path": "__notebook__.ipynb",
   "output_path": "__notebook__.ipynb",
   "parameters": {},
   "start_time": "2023-12-28T06:59:50.219099",
   "version": "2.4.0"
  }
 },
 "nbformat": 4,
 "nbformat_minor": 5
}
